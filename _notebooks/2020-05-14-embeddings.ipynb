{
 "cells": [
  {
   "cell_type": "markdown",
   "metadata": {},
   "source": [
    "# \"Wait, how do embeddings work?\"\n",
    "> \"No NLP, no word2vec, just categorical embeddings in NumPy.\"\n",
    "- toc: true\n",
    "- image: ../images/2020-05-14-embeddings/log_reg/log_reg.gif\n",
    "- branch: master\n",
    "- badges: true\n",
    "- comments: true\n",
    "- categories: [data science]\n",
    "- hide: false\n",
    "- search_exclude: false"
   ]
  },
  {
   "cell_type": "code",
   "execution_count": 1,
   "metadata": {},
   "outputs": [],
   "source": [
    "#collapse\n",
    "import numpy as np\n",
    "import pandas as pd\n",
    "import matplotlib.pyplot as plt\n",
    "import matplotlib.patches as mpatches\n",
    "from PIL import Image"
   ]
  },
  {
   "cell_type": "markdown",
   "metadata": {},
   "source": [
    "Recently, someone asked me to remind them how [categorical embeddings](https://www.fast.ai/2018/04/29/categorical-embeddings/) work. I began to explain how I thought them, and the mechanics of \"training\" embeddings, but the look on my counterpart's face was enough to let me know that I didn't understand them as well as I thought I did. After our conversation, I turned to the internet to try to sharpen my understanding about some of the fuzzy aspects of embeddings, but found that most resources were either dense with [NLP jargon](https://dev.to/tomerbendavid/nlp-terminology-in-5-minutes-3mdd), or specific to [Word2vec](http://jalammar.github.io/illustrated-word2vec/). Both topics are certainly worth studying, but stood in the way of me grasping the fundamentals of embeddings.\n",
    "\n",
    "I resonate with the sentiment Richard Feynman evokes in his famous quote,\n",
    "\n",
    "> _\"What I cannot create, I do not understand.\"_\n",
    "\n",
    "so naturally, I set out to boil categorical embeddings down to the simplest case, and implement them myself. This post will cover the subtle details of training embeddings on a toy example, using `NumPy`. I imagine this will be most helpful to individuals who know a bit about embeddings, or perhaps have even used them with [PyTorch](https://pytorch.org/docs/stable/nn.html#embedding) or [Keras](https://keras.io/api/layers/core_layers/embedding/), but haven't themselves delved into the nuances. My intent here is to cut through the noise and zero in on _exactly_ what it means to \"train embeddings\" (spoiler: you don't need to be doing NLP to leverage them).\n",
    "\n",
    "The code below is optimized for simplicity and readability, _not_ for algorithmic efficiency. In other words, get ready for some for-loops."
   ]
  },
  {
   "cell_type": "markdown",
   "metadata": {},
   "source": [
    "# Logistic Regression from scratch"
   ]
  },
  {
   "cell_type": "markdown",
   "metadata": {},
   "source": [
    "In the spirit of Feynman, let's build this from the ground up. We'll start with simple Logistic Regression, then add embeddings in the next section. \n",
    "\n",
    "Assume that we are interested in training a binary classifier on this toy dataset below."
   ]
  },
  {
   "cell_type": "code",
   "execution_count": 2,
   "metadata": {},
   "outputs": [
    {
     "data": {
      "text/html": [
       "<div>\n",
       "<style scoped>\n",
       "    .dataframe tbody tr th:only-of-type {\n",
       "        vertical-align: middle;\n",
       "    }\n",
       "\n",
       "    .dataframe tbody tr th {\n",
       "        vertical-align: top;\n",
       "    }\n",
       "\n",
       "    .dataframe thead th {\n",
       "        text-align: right;\n",
       "    }\n",
       "</style>\n",
       "<table border=\"1\" class=\"dataframe\">\n",
       "  <thead>\n",
       "    <tr style=\"text-align: right;\">\n",
       "      <th></th>\n",
       "      <th>x</th>\n",
       "      <th>y</th>\n",
       "    </tr>\n",
       "  </thead>\n",
       "  <tbody>\n",
       "    <tr>\n",
       "      <th>0</th>\n",
       "      <td>-1</td>\n",
       "      <td>0</td>\n",
       "    </tr>\n",
       "    <tr>\n",
       "      <th>1</th>\n",
       "      <td>3</td>\n",
       "      <td>1</td>\n",
       "    </tr>\n",
       "    <tr>\n",
       "      <th>2</th>\n",
       "      <td>-2</td>\n",
       "      <td>0</td>\n",
       "    </tr>\n",
       "    <tr>\n",
       "      <th>3</th>\n",
       "      <td>4</td>\n",
       "      <td>1</td>\n",
       "    </tr>\n",
       "  </tbody>\n",
       "</table>\n",
       "</div>"
      ],
      "text/plain": [
       "   x  y\n",
       "0 -1  0\n",
       "1  3  1\n",
       "2 -2  0\n",
       "3  4  1"
      ]
     },
     "execution_count": 2,
     "metadata": {},
     "output_type": "execute_result"
    }
   ],
   "source": [
    "#collapse\n",
    "\n",
    "# initializing dataset\n",
    "obs1 = [-1]\n",
    "obs2 = [3]\n",
    "obs3 = [-2]\n",
    "obs4 = [4]\n",
    "X = np.array([obs1, obs2, obs3, obs4])\n",
    "y = np.array([[0], [1], [0], [1]])\n",
    "\n",
    "# initializing logistic regression parameter\n",
    "w = np.array([[-0.75]])   \n",
    "\n",
    "# wrapping in pd.DataFrame for nice printing\n",
    "pd.DataFrame(np.hstack([X, y]), columns=[\"x\", \"y\"])"
   ]
  },
  {
   "cell_type": "markdown",
   "metadata": {},
   "source": [
    "From a quick glance, it appears that observations from class `0` tend to have negative values, and observations from class `1` tend to have positive values. This dataset should be easy to classify. Now, let's put together a few functions to perform logistic regression."
   ]
  },
  {
   "cell_type": "markdown",
   "metadata": {},
   "source": [
    "{% include info.html text=\"Note: I won't be covering the log-likelihood function's details, but the inclined reader can find its derivation in the docstring below.\" %}"
   ]
  },
  {
   "cell_type": "code",
   "execution_count": 4,
   "metadata": {},
   "outputs": [],
   "source": [
    "#collapse_show\n",
    "\n",
    "def sigmoid(z):\n",
    "    \"\"\"\n",
    "    https://en.wikipedia.org/wiki/Sigmoid_function\n",
    "    \"\"\"\n",
    "    return 1 / (1 + np.exp(-z))\n",
    "\n",
    "def predict_proba(X, w):\n",
    "    \"\"\"\n",
    "    Mimics Scikit-Learn's .predict_proba() method.\n",
    "    https://scikit-learn.org/stable/modules/generated/sklearn.linear_model.LogisticRegression.html#sklearn.linear_model.LogisticRegression.predict_proba\n",
    "    \"\"\"\n",
    "    return sigmoid(np.dot(X, w))\n",
    "\n",
    "def nll(y, y_hat):\n",
    "    \"\"\"\n",
    "    This calculates the negative log likelihood of the data,\n",
    "    which is the loss functions we'll minimize.\n",
    "    https://web.stanford.edu/class/archive/cs/cs109/cs109.1166/pdfs/40%20LogisticRegression.pdf\n",
    "    \"\"\"\n",
    "    m = y.shape[0]\n",
    "    loss = -(1/m) * ((y*np.log(y_hat)) + ((1-y)*np.log(1-y_hat))).sum()\n",
    "    return loss\n",
    "\n",
    "def nll_gradient(X, y, w):\n",
    "    \"\"\"\n",
    "    This calculates the gradient of the negative log likelihood\n",
    "    function. (specifically, with respect to the weights)\n",
    "    \"\"\"\n",
    "    m = y.shape[0]\n",
    "    gradient = -(1/m) * ((y - predict_proba(X, w)) * X).sum()\n",
    "    return np.array([[gradient]])"
   ]
  },
  {
   "cell_type": "code",
   "execution_count": 5,
   "metadata": {},
   "outputs": [
    {
     "name": "stdout",
     "output_type": "stream",
     "text": [
      "-2.209643941038771 -2.2096439388152867e-08\n"
     ]
    }
   ],
   "source": [
    "#hide\n",
    "def gradient_checker(grad_func, loss_func, X, y, w, epsilon=1e-4):\n",
    "    \"\"\"\n",
    "    http://deeplearning.stanford.edu/tutorial/supervised/DebuggingGradientChecking/\n",
    "    \"\"\"\n",
    "    grad = grad_func(X, y, w)\n",
    "    loss_plus_epsilon = loss_func(y, predict_proba(X, w+epsilon))\n",
    "    loss_minus_epsilon = loss_func(y, predict_proba(X, w-epsilon))\n",
    "    grad_approx = (loss_plus_epsilon - loss_minus_epsilon) / 2*epsilon\n",
    "    print(grad.item(), grad_approx)\n",
    "\n",
    "gradient_checker(nll_gradient, nll, X, y, w)"
   ]
  },
  {
   "cell_type": "markdown",
   "metadata": {},
   "source": [
    "Above, the `sigmoid(z)` function is an inherent piece of the Logistic Regression model. In addition, the `predict_proba(X, w)` function mimic's Scikit-Learn's [`.predict_proba()`](https://scikit-learn.org/stable/modules/generated/sklearn.linear_model.LogisticRegression.html#sklearn.linear_model.LogisticRegression.predict_proba) functionality, using the data, `X`, and the learned weight, `w`, to predict the target, `y`. Finally, the `nll(y, y_hat)` and `nll_gradient(X, y, w)` functions compute the loss associated with our model and the gradient of that loss, respectively, which are used to update our weight, `w`."
   ]
  },
  {
   "cell_type": "code",
   "execution_count": 6,
   "metadata": {},
   "outputs": [],
   "source": [
    "#collapse\n",
    "\n",
    "def plot_decision_boundary(X, y, w, epoch=0, loss=0, save=False, file_path=\"../images/2020-05-14-embeddings/log_reg/\", show=False):\n",
    "    x = np.linspace(-10, 10).reshape(-1, 1)\n",
    "    pred_line = predict_proba(x, w)\n",
    "    \n",
    "    # plot formatting\n",
    "    plt.plot(x, pred_line, linewidth=3, c='cornflowerblue')\n",
    "    plt.scatter(X, y, c=[\"khaki\", \"tab:green\"]*2, edgecolors=\"black\", s=100)\n",
    "    plt.axhline(0.5, -10, 10, c='firebrick', linestyle=\"dashed\")\n",
    "    plt.text(4, 0.54, \"probability = 0.5\", c='firebrick')\n",
    "    plt.grid()\n",
    "    plt.title(f\"Epoch {epoch+1}, loss: {round(loss, 4)}\")\n",
    "    plt.xlabel(\"x\", fontsize=14)\n",
    "    plt.ylabel(\"y\", fontsize=14)\n",
    "    class_0 = mpatches.Patch(color=\"khaki\", label=\"class 0\")\n",
    "    class_1 = mpatches.Patch(color=\"tab:green\", label=\"class 1\")\n",
    "    plt.legend(handles=[class_0, class_1])\n",
    "    \n",
    "    # saving/showing fig\n",
    "    if save:\n",
    "        plt.savefig(file_path + f\"{epoch+1}.png\")\n",
    "    if show:\n",
    "        plt.show()\n",
    "    plt.clf()\n",
    "    \n",
    "\n",
    "def save_gif(file_path=\"../images/2020-05-14-embeddings/log_reg/\", epochs=10):\n",
    "    images = [Image.open(file_path + f\"{epoch+1}.png\") for epoch in range(epochs)]\n",
    "    images[0].save(file_path + \"log_reg.gif\", save_all=True, append_images=[im for im in images], optimize=False, duration=300, loop=0)"
   ]
  },
  {
   "cell_type": "code",
   "execution_count": 10,
   "metadata": {},
   "outputs": [
    {
     "data": {
      "image/png": "[encoded data removed]",
      "text/plain": [
       "<Figure size 432x288 with 1 Axes>"
      ]
     },
     "metadata": {
      "needs_background": "light"
     },
     "output_type": "display_data"
    },
    {
     "data": {
      "text/plain": [
       "<Figure size 432x288 with 0 Axes>"
      ]
     },
     "metadata": {},
     "output_type": "display_data"
    }
   ],
   "source": [
    "#hide\n",
    "plot_decision_boundary(X, y, w, show=True)"
   ]
  },
  {
   "cell_type": "markdown",
   "metadata": {},
   "source": [
    "With these functions, we can then proceed with our training loop, which will use [vanilla gradient descent](https://ruder.io/optimizing-gradient-descent/) to find the optimal weight, `w`, which minimizes the negative log likelihood function."
   ]
  },
  {
   "cell_type": "code",
   "execution_count": 11,
   "metadata": {},
   "outputs": [],
   "source": [
    "def training_loop(X, y, w, learning_rate=0.1, epochs=20, verbose=True):\n",
    "    for i in range(epochs):\n",
    "        y_hat = predict_proba(X, w)\n",
    "        loss = nll(y, y_hat)\n",
    "        w = w - (learning_rate * nll_gradient(X, y, w))\n",
    "        plot_decision_boundary(X, y, w, epoch=i, loss=loss, save=True)\n",
    "        if verbose:\n",
    "            if i % 5 == 0:\n",
    "                print(f\"epoch {i} loss: {round(loss, 4)}\")\n",
    "    save_gif(epochs=epochs)\n",
    "    return w"
   ]
  },
  {
   "cell_type": "code",
   "execution_count": 12,
   "metadata": {},
   "outputs": [
    {
     "name": "stdout",
     "output_type": "stream",
     "text": [
      "epoch 0 loss: 2.0593\n",
      "epoch 5 loss: 0.5455\n",
      "epoch 10 loss: 0.278\n",
      "epoch 15 loss: 0.1981\n",
      "epoch 20 loss: 0.1588\n",
      "epoch 25 loss: 0.1349\n",
      "epoch 30 loss: 0.1185\n",
      "epoch 35 loss: 0.1064\n"
     ]
    },
    {
     "data": {
      "text/plain": [
       "<Figure size 432x288 with 0 Axes>"
      ]
     },
     "metadata": {},
     "output_type": "display_data"
    }
   ],
   "source": [
    "w_optimal = training_loop(X, y, w, epochs=40)"
   ]
  },
  {
   "cell_type": "markdown",
   "metadata": {},
   "source": [
    "As we can see by the strcitly decreasing loss of our model, printed every 5 iterations, it appears that our model has converged to its optimum! Perhaps more compelling, however, is to visually see how the decisioun boundary changed across each iteration."
   ]
  },
  {
   "cell_type": "markdown",
   "metadata": {},
   "source": [
    "![log_reg](../images/2020-05-14-embeddings/log_reg/log_reg.gif)"
   ]
  },
  {
   "cell_type": "markdown",
   "metadata": {},
   "source": [
    "# Adding Embeddings\n",
    "\n",
    "Now that we've got a handle on Logistic Regression, let's add some embeddings to the mix. Suppose, for example, that we extend our toy dataset to also include a categorical variable.\n",
    "\n",
    "| category | $x_1$ | $y$ |\n",
    "|----------|-------|---|\n",
    "| A        | -1    | 0 |\n",
    "| B        | 3     | 1 |\n",
    "| C        | -2    | 0 |\n",
    "| D        | 4     | 1 |\n",
    "\n",
    "Given that each datapoint reigns from a different category, we may not be able to get much predictive power out of this new categorical variable, however, we can leverage embeddings to express the relationship between these categories, with respect to their target, `y`, in a higher-dimensional, continuous space (as opposed to the one-dimensional, discrete space that they exist in currently).\n",
    "\n",
    "The first step towards using embeddings in this manner is to substitute each unique category in the dataset with a unique `n` dimensional vector (in this case, `n==2`). We simply intialize them as zeros.\n",
    "\n",
    "| $e_1$ | $e_2$ | $x_1$ | $y$ |\n",
    "|-------|-------|-------|---|\n",
    "| 0     | 0     | -1    | 0 |\n",
    "| 0     | 0     | 3     | 1 |\n",
    "| 0     | 0     | -2    | 0 |\n",
    "| 0     | 0     | 4     | 1 |\n",
    "\n",
    "To be precise, $e_1$ represents the first dimension of categorical embedding, and $e_2$ represents the second dimension, while $x_1$ is the same numeric variable that we had in our example above."
   ]
  },
  {
   "cell_type": "code",
   "execution_count": 13,
   "metadata": {},
   "outputs": [],
   "source": [
    "#collapse\n",
    "\n",
    "# initializing dataset\n",
    "obs1 = [0, 0] + [-1]\n",
    "obs2 = [0, 0] + [3]\n",
    "obs3 = [0, 0] + [-2]\n",
    "obs4 = [0, 0] + [4]\n",
    "X = np.array([obs1, obs2, obs3, obs4])\n",
    "y = np.array([[0], [1], [0], [1]])\n",
    "\n",
    "# initializing log reg parameters\n",
    "w = np.array([[0.5],\n",
    "              [-0.25],\n",
    "              [-0.75]])\n",
    "\n",
    "# pd.DataFrame(np.hstack([X, y]), columns=[\"e_1\", \"e_2\", \"x_3\", \"y\"])"
   ]
  },
  {
   "cell_type": "markdown",
   "metadata": {},
   "source": [
    "Then, you can train a logistic regression model to classify the data points as normal, treating $e_1$ and $e_2$ as features in the dataset. The only difference is that now instead of just updating the weights on each gradient descent loop, you also update the embeddings (this is somewhat counterintuitive, as we're essentially changing the data). The update rules are:\n",
    "\n",
    "$$\n",
    "\\begin{aligned}\n",
    "    w &\\leftarrow w - \\alpha \\cdot \\frac{\\partial \\text{ loss function}}{\\partial\\ w}\\\\\n",
    "    e_1 &\\leftarrow e_1 - \\alpha \\cdot \\frac{\\partial \\text{ loss function}}{\\partial\\ e_1}\\\\\n",
    "    e_2 &\\leftarrow e_2 - \\alpha \\cdot \\frac{\\partial \\text{ loss function}}{\\partial\\ e_2}\n",
    "\\end{aligned}\n",
    "$$\n",
    "\n",
    "As the parameters are updated, embeddings for categories with similar characteristics remain close to each other in the new 2-dimensional space we've mapped them to. In the gif below, notice how the embeddings for categories A and C stay close to each other, as well as B and D."
   ]
  },
  {
   "cell_type": "code",
   "execution_count": 33,
   "metadata": {},
   "outputs": [
    {
     "data": {
      "text/plain": [
       "(3, 1)"
      ]
     },
     "execution_count": 33,
     "metadata": {},
     "output_type": "execute_result"
    }
   ],
   "source": [
    "w.shape"
   ]
  },
  {
   "cell_type": "code",
   "execution_count": 34,
   "metadata": {},
   "outputs": [],
   "source": [
    "def nll_gradient_weights(X, y, w):\n",
    "    \"\"\"\n",
    "    returns deriv of log loss w/ respect to w\n",
    "    \"\"\"\n",
    "    m = X.shape[0]\n",
    "    return (-(1/m) * ((y - predict_proba(X, w)) * X).sum(axis=0)).reshape(-1, 1)"
   ]
  },
  {
   "cell_type": "code",
   "execution_count": 35,
   "metadata": {},
   "outputs": [
    {
     "data": {
      "text/plain": [
       "array([[-0.        ],\n",
       "       [-0.        ],\n",
       "       [-2.20964394]])"
      ]
     },
     "execution_count": 35,
     "metadata": {},
     "output_type": "execute_result"
    }
   ],
   "source": [
    "nll_gradient_weights(X, y, w)"
   ]
  },
  {
   "cell_type": "code",
   "execution_count": 36,
   "metadata": {},
   "outputs": [],
   "source": [
    "def nll_gradient_embeddings(X, y, w, n_embeddings=4, emb_size=2):\n",
    "    \"\"\"\n",
    "    returns deriv of log loss w/ respect to each embedding\n",
    "    assumes embeddings come at beginning of each row\n",
    "    \"\"\"\n",
    "    m = X.shape[0]\n",
    "    embedding_derivatives = []\n",
    "    for i in range(m):\n",
    "        embed_i_derivs = []\n",
    "        for j in range(emb_size):\n",
    "            derivative = (-(1/1) * ((y[i, :] - predict_proba(X[i, :], w)) * w[j, :])).item()\n",
    "            embed_i_derivs.append(derivative)\n",
    "        embedding_derivatives.append(embed_i_derivs)\n",
    "        \n",
    "    return np.array(embedding_derivatives)"
   ]
  },
  {
   "cell_type": "code",
   "execution_count": 37,
   "metadata": {},
   "outputs": [
    {
     "data": {
      "text/plain": [
       "array([[ 0.33958935, -0.16979467],\n",
       "       [-0.45232527,  0.22616263],\n",
       "       [ 0.40878724, -0.20439362],\n",
       "       [-0.47628706,  0.23814353]])"
      ]
     },
     "execution_count": 37,
     "metadata": {},
     "output_type": "execute_result"
    }
   ],
   "source": [
    "nll_gradient_embeddings(X, y, w)"
   ]
  },
  {
   "cell_type": "code",
   "execution_count": 38,
   "metadata": {},
   "outputs": [],
   "source": [
    "def plot_decision_boundary_embeddings(X, y, w, epoch=0, loss=0, save=False, show=False):\n",
    "    fig, ax = plt.subplots(1, 2, figsize=(16, 5))\n",
    "    colors = [\"tab:blue\", \"tab:orange\", \"tab:green\", \"tab:red\"]\n",
    "    categories = [\"A\", \"B\", \"C\", \"D\"]\n",
    "    alpha = 0.8\n",
    "    s = 100\n",
    "    \n",
    "    # log reg decision boundary\n",
    "    x = np.linspace(-10, 10).reshape(-1, 1)\n",
    "    pred_line = predict_proba(x, w[2:, :])\n",
    "    ax[0].plot(x, pred_line, linewidth=3, c='black')\n",
    "    ax[0].scatter(X[:, 2:], y, c=colors, edgecolors=\"black\", s=s, alpha=alpha)\n",
    "    ax[0].axhline(0.5, -10, 10, c='firebrick', linestyle=\"dotted\")\n",
    "    ax[0].text(4, 0.54, \"probability = 0.5\", c='firebrick')\n",
    "    ax[0].grid()\n",
    "    \n",
    "    # labels\n",
    "    ax[0].set_title(f\"Impact of x_1 on decision boundary\", fontsize=16)\n",
    "    ax[0].set(xlabel=\"x_1\", ylabel=\"y\")\n",
    "    ax[0].xaxis.get_label().set_fontsize(14)\n",
    "    ax[0].yaxis.get_label().set_fontsize(14)\n",
    "    \n",
    "    # set legend\n",
    "    handles = []\n",
    "    for i, (color, category) in enumerate(zip(colors, categories)):\n",
    "        handles.append(mpatches.Patch(color=color, label=f\"cat {category}\", alpha=alpha))\n",
    "    ax[0].legend(handles=handles)\n",
    "    \n",
    "    \n",
    "    # embeddings plot\n",
    "    embeddings = X[:, :2]\n",
    "    ax[1].set_xlim(-1, 0.5)\n",
    "    ax[1].set_ylim(-0.5, 0.75)\n",
    "    for i, (color, category) in enumerate(zip(colors, categories)):\n",
    "        ax[1].scatter(X[i, 0], X[i, 1], label=f\"cat {category}\", alpha=alpha, s=s, edgecolors=\"black\", c=color)\n",
    "    for i, (color, category) in enumerate(zip(colors, categories)):\n",
    "        ymin, ymax = ax[1].get_ylim()\n",
    "        xmin, xmax = ax[1].get_xlim()\n",
    "        ax[1].axvline(x=X[i, 0], ymin=0, ymax=(X[i, 1]-ymin) / (ymax-ymin), alpha=alpha, c=color, linestyle=\"dashed\")\n",
    "        ax[1].axhline(y=X[i, 1], xmin=0, xmax=(X[i, 0]-xmin) / (xmax-xmin), alpha=alpha, c=color, linestyle=\"dashed\")\n",
    "    ax[1].legend()\n",
    "    ax[1].grid()\n",
    "    \n",
    "    # labels\n",
    "    ax[1].set_title(f\"Embeddings\", fontsize=16)\n",
    "    ax[1].set(xlabel=\"embedding dimension 1\", ylabel=\"embedding dimension 2\")\n",
    "    ax[1].xaxis.get_label().set_fontsize(14)\n",
    "    ax[1].yaxis.get_label().set_fontsize(14)\n",
    "    \n",
    "    \n",
    "    # fig-wide settings\n",
    "    fig.suptitle(f\"Epoch: {epoch+1}, Log loss: {round(loss, 4)}\", fontsize=18)\n",
    "    \n",
    "    \n",
    "    if save:\n",
    "        plt.savefig(f\"embeddings_images/embeddings/log_reg_{epoch+1}.png\")\n",
    "    if show:\n",
    "        plt.show()\n",
    "    plt.clf()"
   ]
  },
  {
   "cell_type": "code",
   "execution_count": 39,
   "metadata": {},
   "outputs": [
    {
     "data": {
      "image/png": "[encoded data removed]",
      "text/plain": [
       "<Figure size 1152x360 with 2 Axes>"
      ]
     },
     "metadata": {
      "needs_background": "light"
     },
     "output_type": "display_data"
    },
    {
     "data": {
      "text/plain": [
       "<Figure size 432x288 with 0 Axes>"
      ]
     },
     "metadata": {},
     "output_type": "display_data"
    }
   ],
   "source": [
    "obs1 = [0.005, 0.1] + [-1]\n",
    "obs2 = [0, 0] + [3]\n",
    "obs3 = [0, 0] + [-2]\n",
    "obs4 = [0, 0] + [4]\n",
    "test_X = np.array([obs1, obs2, obs3, obs4])\n",
    "plot_decision_boundary_embeddings(test_X, y, w, epoch=0, loss=0, save=False, show=True)"
   ]
  },
  {
   "cell_type": "code",
   "execution_count": 759,
   "metadata": {},
   "outputs": [],
   "source": [
    "def training_loop_embeddings(X, y, w, learning_rate=0.1, epochs=20, verbose=True):\n",
    "    for i in range(epochs):\n",
    "        y_hat = predict_proba(X, w)\n",
    "        loss = nll(y, y_hat)\n",
    "\n",
    "        # calculate new weights\n",
    "        new_weights = w - (learning_rate * nll_gradient_weights(X, y, w))\n",
    "        # calculate new embeddings\n",
    "        new_embeddings = X[:, :2] - (learning_rate * nll_gradient_embeddings(X, y, w))\n",
    "\n",
    "        # update weights and embeddings\n",
    "        w = new_weights\n",
    "        X = np.hstack([new_embeddings, X[:, 2:]])\n",
    "        \n",
    "        plot_decision_boundary_embeddings(X, y, w, epoch=i, loss=loss, save=True)\n",
    "        if verbose:\n",
    "            if i % 5 == 0:\n",
    "                print(f\"epoch {i} loss: {round(loss, 4)}\")\n",
    "    return X, w"
   ]
  },
  {
   "cell_type": "code",
   "execution_count": 760,
   "metadata": {},
   "outputs": [
    {
     "name": "stdout",
     "output_type": "stream",
     "text": [
      "epoch 0 loss: 2.0593\n",
      "epoch 5 loss: 0.5128\n",
      "epoch 10 loss: 0.2534\n",
      "epoch 15 loss: 0.1744\n"
     ]
    },
    {
     "name": "stderr",
     "output_type": "stream",
     "text": [
      "/Users/collinprather/anaconda3/envs/orioles/lib/python3.7/site-packages/ipykernel_launcher.py:2: RuntimeWarning: More than 20 figures have been opened. Figures created through the pyplot interface (`matplotlib.pyplot.figure`) are retained until explicitly closed and may consume too much memory. (To control this warning, see the rcParam `figure.max_open_warning`).\n",
      "  \n"
     ]
    },
    {
     "name": "stdout",
     "output_type": "stream",
     "text": [
      "epoch 20 loss: 0.1347\n",
      "epoch 25 loss: 0.11\n",
      "epoch 30 loss: 0.093\n",
      "epoch 35 loss: 0.0803\n"
     ]
    },
    {
     "data": {
      "text/plain": [
       "<Figure size 1152x360 with 0 Axes>"
      ]
     },
     "metadata": {},
     "output_type": "display_data"
    },
    {
     "data": {
      "text/plain": [
       "<Figure size 1152x360 with 0 Axes>"
      ]
     },
     "metadata": {},
     "output_type": "display_data"
    },
    {
     "data": {
      "text/plain": [
       "<Figure size 1152x360 with 0 Axes>"
      ]
     },
     "metadata": {},
     "output_type": "display_data"
    },
    {
     "data": {
      "text/plain": [
       "<Figure size 1152x360 with 0 Axes>"
      ]
     },
     "metadata": {},
     "output_type": "display_data"
    },
    {
     "data": {
      "text/plain": [
       "<Figure size 1152x360 with 0 Axes>"
      ]
     },
     "metadata": {},
     "output_type": "display_data"
    },
    {
     "data": {
      "text/plain": [
       "<Figure size 1152x360 with 0 Axes>"
      ]
     },
     "metadata": {},
     "output_type": "display_data"
    },
    {
     "data": {
      "text/plain": [
       "<Figure size 1152x360 with 0 Axes>"
      ]
     },
     "metadata": {},
     "output_type": "display_data"
    },
    {
     "data": {
      "text/plain": [
       "<Figure size 1152x360 with 0 Axes>"
      ]
     },
     "metadata": {},
     "output_type": "display_data"
    },
    {
     "data": {
      "text/plain": [
       "<Figure size 1152x360 with 0 Axes>"
      ]
     },
     "metadata": {},
     "output_type": "display_data"
    },
    {
     "data": {
      "text/plain": [
       "<Figure size 1152x360 with 0 Axes>"
      ]
     },
     "metadata": {},
     "output_type": "display_data"
    },
    {
     "data": {
      "text/plain": [
       "<Figure size 1152x360 with 0 Axes>"
      ]
     },
     "metadata": {},
     "output_type": "display_data"
    },
    {
     "data": {
      "text/plain": [
       "<Figure size 1152x360 with 0 Axes>"
      ]
     },
     "metadata": {},
     "output_type": "display_data"
    },
    {
     "data": {
      "text/plain": [
       "<Figure size 1152x360 with 0 Axes>"
      ]
     },
     "metadata": {},
     "output_type": "display_data"
    },
    {
     "data": {
      "text/plain": [
       "<Figure size 1152x360 with 0 Axes>"
      ]
     },
     "metadata": {},
     "output_type": "display_data"
    },
    {
     "data": {
      "text/plain": [
       "<Figure size 1152x360 with 0 Axes>"
      ]
     },
     "metadata": {},
     "output_type": "display_data"
    },
    {
     "data": {
      "text/plain": [
       "<Figure size 1152x360 with 0 Axes>"
      ]
     },
     "metadata": {},
     "output_type": "display_data"
    },
    {
     "data": {
      "text/plain": [
       "<Figure size 1152x360 with 0 Axes>"
      ]
     },
     "metadata": {},
     "output_type": "display_data"
    },
    {
     "data": {
      "text/plain": [
       "<Figure size 1152x360 with 0 Axes>"
      ]
     },
     "metadata": {},
     "output_type": "display_data"
    },
    {
     "data": {
      "text/plain": [
       "<Figure size 1152x360 with 0 Axes>"
      ]
     },
     "metadata": {},
     "output_type": "display_data"
    },
    {
     "data": {
      "text/plain": [
       "<Figure size 1152x360 with 0 Axes>"
      ]
     },
     "metadata": {},
     "output_type": "display_data"
    },
    {
     "data": {
      "text/plain": [
       "<Figure size 1152x360 with 0 Axes>"
      ]
     },
     "metadata": {},
     "output_type": "display_data"
    },
    {
     "data": {
      "text/plain": [
       "<Figure size 1152x360 with 0 Axes>"
      ]
     },
     "metadata": {},
     "output_type": "display_data"
    },
    {
     "data": {
      "text/plain": [
       "<Figure size 1152x360 with 0 Axes>"
      ]
     },
     "metadata": {},
     "output_type": "display_data"
    },
    {
     "data": {
      "text/plain": [
       "<Figure size 1152x360 with 0 Axes>"
      ]
     },
     "metadata": {},
     "output_type": "display_data"
    },
    {
     "data": {
      "text/plain": [
       "<Figure size 1152x360 with 0 Axes>"
      ]
     },
     "metadata": {},
     "output_type": "display_data"
    },
    {
     "data": {
      "text/plain": [
       "<Figure size 1152x360 with 0 Axes>"
      ]
     },
     "metadata": {},
     "output_type": "display_data"
    },
    {
     "data": {
      "text/plain": [
       "<Figure size 1152x360 with 0 Axes>"
      ]
     },
     "metadata": {},
     "output_type": "display_data"
    },
    {
     "data": {
      "text/plain": [
       "<Figure size 1152x360 with 0 Axes>"
      ]
     },
     "metadata": {},
     "output_type": "display_data"
    },
    {
     "data": {
      "text/plain": [
       "<Figure size 1152x360 with 0 Axes>"
      ]
     },
     "metadata": {},
     "output_type": "display_data"
    },
    {
     "data": {
      "text/plain": [
       "<Figure size 1152x360 with 0 Axes>"
      ]
     },
     "metadata": {},
     "output_type": "display_data"
    },
    {
     "data": {
      "text/plain": [
       "<Figure size 1152x360 with 0 Axes>"
      ]
     },
     "metadata": {},
     "output_type": "display_data"
    },
    {
     "data": {
      "text/plain": [
       "<Figure size 1152x360 with 0 Axes>"
      ]
     },
     "metadata": {},
     "output_type": "display_data"
    },
    {
     "data": {
      "text/plain": [
       "<Figure size 1152x360 with 0 Axes>"
      ]
     },
     "metadata": {},
     "output_type": "display_data"
    },
    {
     "data": {
      "text/plain": [
       "<Figure size 1152x360 with 0 Axes>"
      ]
     },
     "metadata": {},
     "output_type": "display_data"
    },
    {
     "data": {
      "text/plain": [
       "<Figure size 1152x360 with 0 Axes>"
      ]
     },
     "metadata": {},
     "output_type": "display_data"
    },
    {
     "data": {
      "text/plain": [
       "<Figure size 1152x360 with 0 Axes>"
      ]
     },
     "metadata": {},
     "output_type": "display_data"
    },
    {
     "data": {
      "text/plain": [
       "<Figure size 1152x360 with 0 Axes>"
      ]
     },
     "metadata": {},
     "output_type": "display_data"
    },
    {
     "data": {
      "text/plain": [
       "<Figure size 1152x360 with 0 Axes>"
      ]
     },
     "metadata": {},
     "output_type": "display_data"
    },
    {
     "data": {
      "text/plain": [
       "<Figure size 1152x360 with 0 Axes>"
      ]
     },
     "metadata": {},
     "output_type": "display_data"
    },
    {
     "data": {
      "text/plain": [
       "<Figure size 1152x360 with 0 Axes>"
      ]
     },
     "metadata": {},
     "output_type": "display_data"
    }
   ],
   "source": [
    "X_updated, w_optimal = training_loop_embeddings(X, y, w, epochs=40)"
   ]
  },
  {
   "cell_type": "code",
   "execution_count": 761,
   "metadata": {},
   "outputs": [],
   "source": [
    "images = [Image.open(f\"embeddings_images/embeddings/log_reg_{epoch+1}.png\") for epoch in range(40)]\n",
    "images[0].save('embeddings_images/embeddings/log_reg.gif', save_all=True, append_images=[im for im in images], optimize=False, duration=300, loop=0)"
   ]
  },
  {
   "cell_type": "markdown",
   "metadata": {},
   "source": [
    "# Resume here!!"
   ]
  },
  {
   "cell_type": "markdown",
   "metadata": {},
   "source": [
    "generate gif that shows decision boundary and embeddings being updated on each iteration.\n",
    "\n",
    "below here is old"
   ]
  },
  {
   "cell_type": "code",
   "execution_count": 459,
   "metadata": {},
   "outputs": [
    {
     "data": {
      "text/plain": [
       "Text(0, 0.5, 'dimension 2')"
      ]
     },
     "execution_count": 459,
     "metadata": {},
     "output_type": "execute_result"
    },
    {
     "data": {
      "image/png": "[encoded data removed]",
      "text/plain": [
       "<Figure size 432x288 with 1 Axes>"
      ]
     },
     "metadata": {
      "needs_background": "light"
     },
     "output_type": "display_data"
    }
   ],
   "source": [
    "embeddings = X[:, :2]\n",
    "for i in range(X.shape[0]):\n",
    "    plt.scatter(X[i, 0], X[i, 1], label=f\"embedding {i}\", alpha=0.5, s=80)\n",
    "plt.legend()\n",
    "plt.grid()\n",
    "plt.xlabel(\"dimension 1\")\n",
    "plt.ylabel(\"dimension 2\")"
   ]
  },
  {
   "cell_type": "code",
   "execution_count": 116,
   "metadata": {},
   "outputs": [
    {
     "data": {
      "text/plain": [
       "array([[-0.31536751, -0.95955474],\n",
       "       [ 0.11569633,  0.42461473],\n",
       "       [-0.34411421, -1.03671392],\n",
       "       [ 0.10044862,  0.38136084]])"
      ]
     },
     "execution_count": 116,
     "metadata": {},
     "output_type": "execute_result"
    }
   ],
   "source": [
    "X[:, :2]"
   ]
  },
  {
   "cell_type": "markdown",
   "metadata": {},
   "source": [
    "Notice, there is no direct interpretation of the units on the x and y axis. We can tell, however, that in this two dimensional space, the embeddings for category 1 and category 2 are very similar."
   ]
  },
  {
   "cell_type": "markdown",
   "metadata": {},
   "source": [
    "Make a note about how if I keep training, they land right on top of each other!"
   ]
  },
  {
   "cell_type": "markdown",
   "metadata": {},
   "source": [
    "Note in practice, people typically train, 50, 100, 250 dimensional embeddings."
   ]
  },
  {
   "cell_type": "code",
   "execution_count": null,
   "metadata": {},
   "outputs": [],
   "source": []
  }
 ],
 "metadata": {
  "kernelspec": {
   "display_name": "Python 3",
   "language": "python",
   "name": "python3"
  },
  "language_info": {
   "codemirror_mode": {
    "name": "ipython",
    "version": 3
   },
   "file_extension": ".py",
   "mimetype": "text/x-python",
   "name": "python",
   "nbconvert_exporter": "python",
   "pygments_lexer": "ipython3",
   "version": "3.7.7"
  }
 },
 "nbformat": 4,
 "nbformat_minor": 4
}
